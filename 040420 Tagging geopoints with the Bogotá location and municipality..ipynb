{
 "cells": [
  {
   "cell_type": "markdown",
   "metadata": {},
   "source": [
    "# Tagging geopoints with the Bogotá location and municipality.\n",
    "\n",
    "With this notebook we are tagging the geopoints with the Bogotá district and minicipality. This is necesary for data preprocess for more human comprensive because these tag we can filter a cluster the locations.\n",
    "\n",
    "Note: the data used in this project was take from https://bogota-laburbano.opendatasoft.com/pages/home/\n"
   ]
  },
  {
   "cell_type": "code",
   "execution_count": 1,
   "metadata": {},
   "outputs": [],
   "source": [
    "# load librarys\n",
    "import geopandas as gpd\n",
    "import matplotlib.pyplot as plt\n",
    "gpd.io.file.fiona.drvsupport.supported_drivers['KML'] = 'rw'\n",
    "\n",
    "# Let’s first enable shapely.speedups which makes some of the spatial queries running faster.\n",
    "import shapely.speedups\n",
    "shapely.speedups.enable()"
   ]
  },
  {
   "cell_type": "code",
   "execution_count": 2,
   "metadata": {},
   "outputs": [
    {
     "data": {
      "text/html": [
       "<div>\n",
       "<style scoped>\n",
       "    .dataframe tbody tr th:only-of-type {\n",
       "        vertical-align: middle;\n",
       "    }\n",
       "\n",
       "    .dataframe tbody tr th {\n",
       "        vertical-align: top;\n",
       "    }\n",
       "\n",
       "    .dataframe thead th {\n",
       "        text-align: right;\n",
       "    }\n",
       "</style>\n",
       "<table border=\"1\" class=\"dataframe\">\n",
       "  <thead>\n",
       "    <tr style=\"text-align: right;\">\n",
       "      <th></th>\n",
       "      <th>Name</th>\n",
       "      <th>Description</th>\n",
       "      <th>geometry</th>\n",
       "    </tr>\n",
       "  </thead>\n",
       "  <tbody>\n",
       "    <tr>\n",
       "      <td>0</td>\n",
       "      <td>328338</td>\n",
       "      <td></td>\n",
       "      <td>POINT (-74.08504 4.74002)</td>\n",
       "    </tr>\n",
       "    <tr>\n",
       "      <td>1</td>\n",
       "      <td>304681</td>\n",
       "      <td></td>\n",
       "      <td>POINT (-74.09650 4.74037)</td>\n",
       "    </tr>\n",
       "    <tr>\n",
       "      <td>2</td>\n",
       "      <td>328347</td>\n",
       "      <td></td>\n",
       "      <td>POINT (-74.08505 4.54817)</td>\n",
       "    </tr>\n",
       "    <tr>\n",
       "      <td>3</td>\n",
       "      <td>304686</td>\n",
       "      <td></td>\n",
       "      <td>POINT (-74.09651 4.59819)</td>\n",
       "    </tr>\n",
       "    <tr>\n",
       "      <td>4</td>\n",
       "      <td>328356</td>\n",
       "      <td></td>\n",
       "      <td>POINT (-74.08502 4.66973)</td>\n",
       "    </tr>\n",
       "  </tbody>\n",
       "</table>\n",
       "</div>"
      ],
      "text/plain": [
       "     Name Description                   geometry\n",
       "0  328338              POINT (-74.08504 4.74002)\n",
       "1  304681              POINT (-74.09650 4.74037)\n",
       "2  328347              POINT (-74.08505 4.54817)\n",
       "3  304686              POINT (-74.09651 4.59819)\n",
       "4  328356              POINT (-74.08502 4.66973)"
      ]
     },
     "execution_count": 2,
     "metadata": {},
     "output_type": "execute_result"
    }
   ],
   "source": [
    "# File with geopints with commerces points \n",
    "data = gpd.read_file(\"data/establecimientos-comerciales-2016.kml\", driver='KML')\n",
    "data.head()"
   ]
  },
  {
   "cell_type": "code",
   "execution_count": 3,
   "metadata": {},
   "outputs": [
    {
     "data": {
      "text/html": [
       "<div>\n",
       "<style scoped>\n",
       "    .dataframe tbody tr th:only-of-type {\n",
       "        vertical-align: middle;\n",
       "    }\n",
       "\n",
       "    .dataframe tbody tr th {\n",
       "        vertical-align: top;\n",
       "    }\n",
       "\n",
       "    .dataframe thead th {\n",
       "        text-align: right;\n",
       "    }\n",
       "</style>\n",
       "<table border=\"1\" class=\"dataframe\">\n",
       "  <thead>\n",
       "    <tr style=\"text-align: right;\">\n",
       "      <th></th>\n",
       "      <th>Name</th>\n",
       "      <th>Description</th>\n",
       "      <th>geometry</th>\n",
       "    </tr>\n",
       "  </thead>\n",
       "  <tbody>\n",
       "    <tr>\n",
       "      <td>0</td>\n",
       "      <td>ANTONIO NARIÑO</td>\n",
       "      <td></td>\n",
       "      <td>MULTIPOLYGON (((-74.13075 4.59335, -74.13075 4...</td>\n",
       "    </tr>\n",
       "    <tr>\n",
       "      <td>1</td>\n",
       "      <td>TEUSAQUILLO</td>\n",
       "      <td></td>\n",
       "      <td>MULTIPOLYGON (((-74.09372 4.66607, -74.10342 4...</td>\n",
       "    </tr>\n",
       "    <tr>\n",
       "      <td>2</td>\n",
       "      <td>SUMAPAZ</td>\n",
       "      <td></td>\n",
       "      <td>MULTIPOLYGON (((-74.20584 4.26966, -74.20567 4...</td>\n",
       "    </tr>\n",
       "    <tr>\n",
       "      <td>3</td>\n",
       "      <td>SAN CRISTOBAL</td>\n",
       "      <td></td>\n",
       "      <td>MULTIPOLYGON (((-74.02900 4.55830, -74.02892 4...</td>\n",
       "    </tr>\n",
       "    <tr>\n",
       "      <td>4</td>\n",
       "      <td>USAQUEN</td>\n",
       "      <td></td>\n",
       "      <td>MULTIPOLYGON (((-74.01089 4.66358, -74.01077 4...</td>\n",
       "    </tr>\n",
       "  </tbody>\n",
       "</table>\n",
       "</div>"
      ],
      "text/plain": [
       "             Name Description  \\\n",
       "0  ANTONIO NARIÑO               \n",
       "1     TEUSAQUILLO               \n",
       "2         SUMAPAZ               \n",
       "3   SAN CRISTOBAL               \n",
       "4         USAQUEN               \n",
       "\n",
       "                                            geometry  \n",
       "0  MULTIPOLYGON (((-74.13075 4.59335, -74.13075 4...  \n",
       "1  MULTIPOLYGON (((-74.09372 4.66607, -74.10342 4...  \n",
       "2  MULTIPOLYGON (((-74.20584 4.26966, -74.20567 4...  \n",
       "3  MULTIPOLYGON (((-74.02900 4.55830, -74.02892 4...  \n",
       "4  MULTIPOLYGON (((-74.01089 4.66358, -74.01077 4...  "
      ]
     },
     "execution_count": 3,
     "metadata": {},
     "output_type": "execute_result"
    }
   ],
   "source": [
    "# Filepath to KML file with location polygon (localidades)\n",
    "polys = gpd.read_file(\"data/poligonos-localidades.kml\", driver='KML')\n",
    "polys.head()"
   ]
  },
  {
   "cell_type": "code",
   "execution_count": 4,
   "metadata": {},
   "outputs": [
    {
     "data": {
      "text/html": [
       "<div>\n",
       "<style scoped>\n",
       "    .dataframe tbody tr th:only-of-type {\n",
       "        vertical-align: middle;\n",
       "    }\n",
       "\n",
       "    .dataframe tbody tr th {\n",
       "        vertical-align: top;\n",
       "    }\n",
       "\n",
       "    .dataframe thead th {\n",
       "        text-align: right;\n",
       "    }\n",
       "</style>\n",
       "<table border=\"1\" class=\"dataframe\">\n",
       "  <thead>\n",
       "    <tr style=\"text-align: right;\">\n",
       "      <th></th>\n",
       "      <th>Name</th>\n",
       "      <th>Description</th>\n",
       "      <th>geometry</th>\n",
       "    </tr>\n",
       "  </thead>\n",
       "  <tbody>\n",
       "    <tr>\n",
       "      <td>0</td>\n",
       "      <td>CANAVERALEJO</td>\n",
       "      <td></td>\n",
       "      <td>MULTIPOLYGON (((-74.20388 4.64294, -74.20330 4...</td>\n",
       "    </tr>\n",
       "    <tr>\n",
       "      <td>1</td>\n",
       "      <td>LAS PALMAS</td>\n",
       "      <td></td>\n",
       "      <td>MULTIPOLYGON (((-74.14915 4.16888, -74.14906 4...</td>\n",
       "    </tr>\n",
       "    <tr>\n",
       "      <td>2</td>\n",
       "      <td>SAN BLAS II</td>\n",
       "      <td></td>\n",
       "      <td>MULTIPOLYGON (((-74.07788 4.56646, -74.07801 4...</td>\n",
       "    </tr>\n",
       "    <tr>\n",
       "      <td>3</td>\n",
       "      <td>SAN BERNARDINO XXII URBANO</td>\n",
       "      <td></td>\n",
       "      <td>MULTIPOLYGON (((-74.21595 4.62411, -74.21551 4...</td>\n",
       "    </tr>\n",
       "    <tr>\n",
       "      <td>4</td>\n",
       "      <td>LA PRADERA NORTE</td>\n",
       "      <td></td>\n",
       "      <td>MULTIPOLYGON (((-74.03735 4.73956, -74.03658 4...</td>\n",
       "    </tr>\n",
       "  </tbody>\n",
       "</table>\n",
       "</div>"
      ],
      "text/plain": [
       "                         Name Description  \\\n",
       "0                CANAVERALEJO               \n",
       "1                  LAS PALMAS               \n",
       "2                 SAN BLAS II               \n",
       "3  SAN BERNARDINO XXII URBANO               \n",
       "4            LA PRADERA NORTE               \n",
       "\n",
       "                                            geometry  \n",
       "0  MULTIPOLYGON (((-74.20388 4.64294, -74.20330 4...  \n",
       "1  MULTIPOLYGON (((-74.14915 4.16888, -74.14906 4...  \n",
       "2  MULTIPOLYGON (((-74.07788 4.56646, -74.07801 4...  \n",
       "3  MULTIPOLYGON (((-74.21595 4.62411, -74.21551 4...  \n",
       "4  MULTIPOLYGON (((-74.03735 4.73956, -74.03658 4...  "
      ]
     },
     "execution_count": 4,
     "metadata": {},
     "output_type": "execute_result"
    }
   ],
   "source": [
    "    # Filepath to KML file with municipality polygon (municipio)\n",
    "    municipalities = gpd.read_file(\"data/scat.kml\", driver='KML')\n",
    "    municipalities.head()"
   ]
  },
  {
   "cell_type": "code",
   "execution_count": 5,
   "metadata": {},
   "outputs": [
    {
     "data": {
      "image/png": "[encoded data removed]",
      "text/plain": [
       "<Figure size 432x288 with 1 Axes>"
      ]
     },
     "metadata": {
      "needs_background": "light"
     },
     "output_type": "display_data"
    }
   ],
   "source": [
    "# Let’s select that one and see where it is located, and plot also the points on top of the map.\n",
    "polygon = polys.loc[polys['Name']=='USAQUEN']\n",
    "polygon.reset_index(drop=True, inplace=True)\n",
    "fig, ax = plt.subplots()\n",
    "polys.plot(ax=ax, facecolor='gray');\n",
    "polygon.plot(ax=ax, facecolor='red');\n",
    "data.plot(ax=ax, color='blue', markersize=5);\n",
    "plt.tight_layout();"
   ]
  },
  {
   "cell_type": "code",
   "execution_count": 6,
   "metadata": {},
   "outputs": [
    {
     "name": "stdout",
     "output_type": "stream",
     "text": [
      "0    False\n",
      "1    False\n",
      "2    False\n",
      "3    False\n",
      "4    False\n",
      "dtype: bool\n"
     ]
    },
    {
     "data": {
      "text/plain": [
       "False    410908\n",
       "True      28979\n",
       "dtype: int64"
      ]
     },
     "execution_count": 6,
     "metadata": {},
     "output_type": "execute_result"
    }
   ],
   "source": [
    "# Let’s check which Points are within the location Polygon. \n",
    "pip_mask = data.within(polygon.loc[0, 'geometry'])\n",
    "print(pip_mask.head())\n",
    "pip_mask.value_counts()"
   ]
  },
  {
   "cell_type": "code",
   "execution_count": 7,
   "metadata": {
    "scrolled": true
   },
   "outputs": [
    {
     "data": {
      "image/png": "[encoded data removed]",
      "text/plain": [
       "<Figure size 432x288 with 1 Axes>"
      ]
     },
     "metadata": {
      "needs_background": "light"
     },
     "output_type": "display_data"
    }
   ],
   "source": [
    "# Let’s finally confirm that our Point in Polygon query worked as it should by plotting the data.\n",
    "pip_data = data.loc[pip_mask]\n",
    "polygon = polys.loc[polys['Name']=='USAQUEN']\n",
    "polygon.reset_index(drop=True, inplace=True)\n",
    "fig, ax = plt.subplots()\n",
    "polys.plot(ax=ax, facecolor='gray');\n",
    "polygon.plot(ax=ax, facecolor='red');\n",
    "pip_data.plot(ax=ax, color='gold', markersize=2);\n",
    "plt.tight_layout();"
   ]
  },
  {
   "cell_type": "code",
   "execution_count": 8,
   "metadata": {},
   "outputs": [],
   "source": [
    "# Fuction identification location \n",
    "def commerce_within(data, polys, column_name):\n",
    "    locations = set(polys['Name'])\n",
    "    #n = 0\n",
    "    for l in locations:\n",
    "        polygon = polys.loc[polys['Name']== l]\n",
    "        polygon.reset_index(drop=True, inplace=True)\n",
    "        pip_mask = data.within(polygon.loc[0, 'geometry'])\n",
    "        data.loc[pip_mask.index,column_name] = l\n",
    "    return data[column_name]"
   ]
  },
  {
   "cell_type": "code",
   "execution_count": 9,
   "metadata": {},
   "outputs": [
    {
     "data": {
      "text/plain": [
       "0         CIUDAD BOLIVAR\n",
       "1         CIUDAD BOLIVAR\n",
       "2         CIUDAD BOLIVAR\n",
       "3         CIUDAD BOLIVAR\n",
       "4         CIUDAD BOLIVAR\n",
       "               ...      \n",
       "439882    CIUDAD BOLIVAR\n",
       "439883    CIUDAD BOLIVAR\n",
       "439884    CIUDAD BOLIVAR\n",
       "439885    CIUDAD BOLIVAR\n",
       "439886    CIUDAD BOLIVAR\n",
       "Name: municipio, Length: 439887, dtype: object"
      ]
     },
     "execution_count": 9,
     "metadata": {},
     "output_type": "execute_result"
    }
   ],
   "source": [
    "# Tag localidad\n",
    "commerce_within(data, polys, 'localidad')\n",
    "\n",
    "# Tag municipio\n",
    "commerce_within(data, municipalities, 'municipio')"
   ]
  },
  {
   "cell_type": "code",
   "execution_count": 10,
   "metadata": {},
   "outputs": [
    {
     "data": {
      "text/plain": [
       "Index(['Name', 'Description', 'geometry', 'localidad', 'municipio'], dtype='object')"
      ]
     },
     "execution_count": 10,
     "metadata": {},
     "output_type": "execute_result"
    }
   ],
   "source": [
    "data.columns"
   ]
  },
  {
   "cell_type": "code",
   "execution_count": 11,
   "metadata": {},
   "outputs": [
    {
     "data": {
      "text/html": [
       "<div>\n",
       "<style scoped>\n",
       "    .dataframe tbody tr th:only-of-type {\n",
       "        vertical-align: middle;\n",
       "    }\n",
       "\n",
       "    .dataframe tbody tr th {\n",
       "        vertical-align: top;\n",
       "    }\n",
       "\n",
       "    .dataframe thead th {\n",
       "        text-align: right;\n",
       "    }\n",
       "</style>\n",
       "<table border=\"1\" class=\"dataframe\">\n",
       "  <thead>\n",
       "    <tr style=\"text-align: right;\">\n",
       "      <th></th>\n",
       "      <th>Name</th>\n",
       "      <th>Description</th>\n",
       "      <th>geometry</th>\n",
       "      <th>localidad</th>\n",
       "      <th>municipio</th>\n",
       "    </tr>\n",
       "  </thead>\n",
       "  <tbody>\n",
       "    <tr>\n",
       "      <td>0</td>\n",
       "      <td>328338</td>\n",
       "      <td></td>\n",
       "      <td>POINT (-74.08504 4.74002)</td>\n",
       "      <td>CIUDAD BOLIVAR</td>\n",
       "      <td>CIUDAD BOLIVAR</td>\n",
       "    </tr>\n",
       "    <tr>\n",
       "      <td>1</td>\n",
       "      <td>304681</td>\n",
       "      <td></td>\n",
       "      <td>POINT (-74.09650 4.74037)</td>\n",
       "      <td>CIUDAD BOLIVAR</td>\n",
       "      <td>CIUDAD BOLIVAR</td>\n",
       "    </tr>\n",
       "    <tr>\n",
       "      <td>2</td>\n",
       "      <td>328347</td>\n",
       "      <td></td>\n",
       "      <td>POINT (-74.08505 4.54817)</td>\n",
       "      <td>CIUDAD BOLIVAR</td>\n",
       "      <td>CIUDAD BOLIVAR</td>\n",
       "    </tr>\n",
       "    <tr>\n",
       "      <td>3</td>\n",
       "      <td>304686</td>\n",
       "      <td></td>\n",
       "      <td>POINT (-74.09651 4.59819)</td>\n",
       "      <td>CIUDAD BOLIVAR</td>\n",
       "      <td>CIUDAD BOLIVAR</td>\n",
       "    </tr>\n",
       "    <tr>\n",
       "      <td>4</td>\n",
       "      <td>328356</td>\n",
       "      <td></td>\n",
       "      <td>POINT (-74.08502 4.66973)</td>\n",
       "      <td>CIUDAD BOLIVAR</td>\n",
       "      <td>CIUDAD BOLIVAR</td>\n",
       "    </tr>\n",
       "  </tbody>\n",
       "</table>\n",
       "</div>"
      ],
      "text/plain": [
       "     Name Description                   geometry       localidad  \\\n",
       "0  328338              POINT (-74.08504 4.74002)  CIUDAD BOLIVAR   \n",
       "1  304681              POINT (-74.09650 4.74037)  CIUDAD BOLIVAR   \n",
       "2  328347              POINT (-74.08505 4.54817)  CIUDAD BOLIVAR   \n",
       "3  304686              POINT (-74.09651 4.59819)  CIUDAD BOLIVAR   \n",
       "4  328356              POINT (-74.08502 4.66973)  CIUDAD BOLIVAR   \n",
       "\n",
       "        municipio  \n",
       "0  CIUDAD BOLIVAR  \n",
       "1  CIUDAD BOLIVAR  \n",
       "2  CIUDAD BOLIVAR  \n",
       "3  CIUDAD BOLIVAR  \n",
       "4  CIUDAD BOLIVAR  "
      ]
     },
     "execution_count": 11,
     "metadata": {},
     "output_type": "execute_result"
    }
   ],
   "source": [
    "data.head()"
   ]
  },
  {
   "cell_type": "code",
   "execution_count": 12,
   "metadata": {},
   "outputs": [],
   "source": [
    "# Save data\n",
    "data.to_file(\"output/comercios_etiquetados.geojson\", driver='GeoJSON')"
   ]
  }
 ],
 "metadata": {
  "kernelspec": {
   "display_name": "Python 3",
   "language": "python",
   "name": "python3"
  },
  "language_info": {
   "codemirror_mode": {
    "name": "ipython",
    "version": 3
   },
   "file_extension": ".py",
   "mimetype": "text/x-python",
   "name": "python",
   "nbconvert_exporter": "python",
   "pygments_lexer": "ipython3",
   "version": "3.7.4"
  }
 },
 "nbformat": 4,
 "nbformat_minor": 2
}
